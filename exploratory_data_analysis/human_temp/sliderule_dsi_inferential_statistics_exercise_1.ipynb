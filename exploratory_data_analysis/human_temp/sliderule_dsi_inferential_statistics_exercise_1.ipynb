{
 "cells": [
  {
   "cell_type": "markdown",
   "metadata": {},
   "source": [
    "# What is the True Normal Human Body Temperature? \n",
    "\n",
    "#### Background\n",
    "\n",
    "The mean normal body temperature was held to be 37$^{\\circ}$C or 98.6$^{\\circ}$F for more than 120 years since it was first conceptualized and reported by Carl Wunderlich in a famous 1868 book. But, is this value statistically correct?"
   ]
  },
  {
   "cell_type": "markdown",
   "metadata": {},
   "source": [
    "<div class=\"span5 alert alert-info\">\n",
    "<h3>Exercises</h3>\n",
    "\n",
    "<p>In this exercise, you will analyze a dataset of human body temperatures and employ the concepts of hypothesis testing, confidence intervals, and statistical significance.</p>\n",
    "\n",
    "<p>Answer the following questions <b>in this notebook below and submit to your Github account</b>.</p> \n",
    "\n",
    "<ol>\n",
    "<li>  Is the distribution of body temperatures normal? \n",
    "    <ul>\n",
    "    <li> Although this is not a requirement for CLT to hold (read CLT carefully), it gives us some peace of mind that the population may also be normally distributed if we assume that this sample is representative of the population.\n",
    "    </ul>\n",
    "<li>  Is the sample size large? Are the observations independent?\n",
    "    <ul>\n",
    "    <li> Remember that this is a condition for the CLT, and hence the statistical tests we are using, to apply.\n",
    "    </ul>\n",
    "<li>  Is the true population mean really 98.6 degrees F?\n",
    "    <ul>\n",
    "    <li> Would you use a one-sample or two-sample test? Why?\n",
    "    <li> In this situation, is it appropriate to use the $t$ or $z$ statistic? \n",
    "    <li> Now try using the other test. How is the result be different? Why?\n",
    "    </ul>\n",
    "<li>  At what temperature should we consider someone's temperature to be \"abnormal\"?\n",
    "    <ul>\n",
    "    <li> Start by computing the margin of error and confidence interval.\n",
    "    </ul>\n",
    "<li>  Is there a significant difference between males and females in normal temperature?\n",
    "    <ul>\n",
    "    <li> What test did you use and why?\n",
    "    <li> Write a story with your conclusion in the context of the original problem.\n",
    "    </ul>\n",
    "</ol>\n",
    "\n",
    "You can include written notes in notebook cells using Markdown: \n",
    "   - In the control panel at the top, choose Cell > Cell Type > Markdown\n",
    "   - Markdown syntax: http://nestacms.com/docs/creating-content/markdown-cheat-sheet\n",
    "\n",
    "#### Resources\n",
    "\n",
    "+ Information and data sources: http://www.amstat.org/publications/jse/datasets/normtemp.txt, http://www.amstat.org/publications/jse/jse_data_archive.htm\n",
    "+ Markdown syntax: http://nestacms.com/docs/creating-content/markdown-cheat-sheet\n",
    "\n",
    "****\n",
    "</div>"
   ]
  },
  {
   "cell_type": "code",
   "execution_count": 1,
   "metadata": {
    "collapsed": true
   },
   "outputs": [],
   "source": [
    "import pandas as pd\n",
    "\n",
    "df = pd.read_csv('data/human_body_temperature.csv')"
   ]
  },
  {
   "cell_type": "code",
   "execution_count": 2,
   "metadata": {
    "collapsed": false,
    "scrolled": false
   },
   "outputs": [
    {
     "data": {
      "text/html": [
       "<div>\n",
       "<table border=\"1\" class=\"dataframe\">\n",
       "  <thead>\n",
       "    <tr style=\"text-align: right;\">\n",
       "      <th></th>\n",
       "      <th>temperature</th>\n",
       "      <th>gender</th>\n",
       "      <th>heart_rate</th>\n",
       "    </tr>\n",
       "  </thead>\n",
       "  <tbody>\n",
       "    <tr>\n",
       "      <th>0</th>\n",
       "      <td>99.3</td>\n",
       "      <td>F</td>\n",
       "      <td>68.0</td>\n",
       "    </tr>\n",
       "    <tr>\n",
       "      <th>1</th>\n",
       "      <td>98.4</td>\n",
       "      <td>F</td>\n",
       "      <td>81.0</td>\n",
       "    </tr>\n",
       "    <tr>\n",
       "      <th>2</th>\n",
       "      <td>97.8</td>\n",
       "      <td>M</td>\n",
       "      <td>73.0</td>\n",
       "    </tr>\n",
       "    <tr>\n",
       "      <th>3</th>\n",
       "      <td>99.2</td>\n",
       "      <td>F</td>\n",
       "      <td>66.0</td>\n",
       "    </tr>\n",
       "    <tr>\n",
       "      <th>4</th>\n",
       "      <td>98.0</td>\n",
       "      <td>F</td>\n",
       "      <td>73.0</td>\n",
       "    </tr>\n",
       "  </tbody>\n",
       "</table>\n",
       "</div>"
      ],
      "text/plain": [
       "   temperature gender  heart_rate\n",
       "0         99.3      F        68.0\n",
       "1         98.4      F        81.0\n",
       "2         97.8      M        73.0\n",
       "3         99.2      F        66.0\n",
       "4         98.0      F        73.0"
      ]
     },
     "execution_count": 2,
     "metadata": {},
     "output_type": "execute_result"
    }
   ],
   "source": [
    "# Imports\n",
    "import numpy as np\n",
    "from scipy import stats\n",
    "import matplotlib.pyplot as plt\n",
    "%matplotlib inline\n",
    "\n",
    "# Look at the first few entries\n",
    "df.head()"
   ]
  },
  {
   "cell_type": "markdown",
   "metadata": {},
   "source": [
    "### Testing mean temperature assumption of 98.6 "
   ]
  },
  {
   "cell_type": "code",
   "execution_count": 3,
   "metadata": {
    "collapsed": false
   },
   "outputs": [
    {
     "name": "stdout",
     "output_type": "stream",
     "text": [
      "Number of samples = 130\n"
     ]
    }
   ],
   "source": [
    "print(\"Number of samples = {:d}\".format(len(df)))"
   ]
  },
  {
   "cell_type": "markdown",
   "metadata": {},
   "source": [
    "Let's look at the distribution of temperatures visually:\n",
    "* Histogram\n",
    "* Q-Q plot "
   ]
  },
  {
   "cell_type": "code",
   "execution_count": 4,
   "metadata": {
    "collapsed": false
   },
   "outputs": [
    {
     "data": {
      "image/png": "[encoded data removed]",
      "text/plain": [
       "<matplotlib.figure.Figure at 0x119c5e438>"
      ]
     },
     "metadata": {},
     "output_type": "display_data"
    }
   ],
   "source": [
    "plt.hist(df['temperature'])\n",
    "plt.xlabel('Temperature')\n",
    "plt.ylabel('Count')\n",
    "plt.show()"
   ]
  },
  {
   "cell_type": "code",
   "execution_count": 5,
   "metadata": {
    "collapsed": false,
    "scrolled": true
   },
   "outputs": [
    {
     "data": {
      "image/png": "[encoded data removed]",
      "text/plain": [
       "<matplotlib.figure.Figure at 0x119b9eef0>"
      ]
     },
     "metadata": {},
     "output_type": "display_data"
    }
   ],
   "source": [
    "stats.probplot(df['temperature'], dist = 'norm', plot=plt)\n",
    "None"
   ]
  },
  {
   "cell_type": "markdown",
   "metadata": {},
   "source": [
    "Theoretical and observed quantiles are quite close, so temperature is fairly normal. Let's test the hypothesis that the true population mean is 98.6 degrees. \n",
    "\n",
    "For the whole population, we will use a one sample test. There are 130 observations so a z-test and t-test would be very similar and it does not matter which one to use."
   ]
  },
  {
   "cell_type": "code",
   "execution_count": 6,
   "metadata": {
    "collapsed": false,
    "scrolled": true
   },
   "outputs": [
    {
     "name": "stdout",
     "output_type": "stream",
     "text": [
      "Mean T of sample = 98.25 Std T of sample = 0.73\n",
      "Test statistic = -5.48\n"
     ]
    }
   ],
   "source": [
    "mu0 = 98.6 # Hypothesis\n",
    "\n",
    "# Test statistic\n",
    "temps = df['temperature'].values\n",
    "ts = (np.mean(temps) - mu0)/(np.std(temps)/np.sqrt(len(temps)))\n",
    "print(\"Mean T of sample = {:.2f}\".format(np.mean(temps)),\n",
    "      \"Std T of sample = {:.2f}\".format(np.std(temps)))\n",
    "print(\"Test statistic = {:.2f}\".format(ts))"
   ]
  },
  {
   "cell_type": "markdown",
   "metadata": {},
   "source": [
    "This test statistic is very low, and we can reject the null hypothesis. Let's compute the p-value (two sided):"
   ]
  },
  {
   "cell_type": "code",
   "execution_count": 7,
   "metadata": {
    "collapsed": false
   },
   "outputs": [
    {
     "name": "stdout",
     "output_type": "stream",
     "text": [
      "z-test p-value = 4.35e-08\n",
      "t-test p-value = 2.19e-07\n"
     ]
    }
   ],
   "source": [
    "pval_z = 2*stats.norm.cdf(ts)\n",
    "pval_t = 2*stats.t.cdf(ts, len(temps)-1)\n",
    "print(\"z-test p-value = {:.2e}\".format(pval_z))\n",
    "print(\"t-test p-value = {:.2e}\".format(pval_t))"
   ]
  },
  {
   "cell_type": "markdown",
   "metadata": {},
   "source": [
    "Let's contsruct a 95% confidence interval around the sample mean to specify a region of temperatures that would be considered normal:"
   ]
  },
  {
   "cell_type": "code",
   "execution_count": 8,
   "metadata": {
    "collapsed": false
   },
   "outputs": [
    {
     "name": "stdout",
     "output_type": "stream",
     "text": [
      "The 95% confidence interval is [98.14,98.35]\n"
     ]
    }
   ],
   "source": [
    "low = np.mean(temps) - stats.norm.ppf(0.95)*np.std(temps)/np.sqrt(len(temps))\n",
    "high = np.mean(temps) + stats.norm.ppf(0.95)*np.std(temps)/np.sqrt(len(temps))\n",
    "print(\"The 95% confidence interval is [{:.2f},{:.2f}]\".format(low,high))"
   ]
  },
  {
   "cell_type": "markdown",
   "metadata": {},
   "source": [
    "### Male-Female body temperature difference\n",
    "\n",
    "Let's now check whether there is a difference between male and female body temperatures"
   ]
  },
  {
   "cell_type": "code",
   "execution_count": 10,
   "metadata": {
    "collapsed": true
   },
   "outputs": [],
   "source": [
    "male_temps = df[df['gender'] == 'M']['temperature']\n",
    "female_temps = df[df['gender'] == 'F']['temperature']"
   ]
  },
  {
   "cell_type": "markdown",
   "metadata": {},
   "source": [
    "Let's construct a test statistic. We will perform this assuming both equal and non-equal variances."
   ]
  },
  {
   "cell_type": "code",
   "execution_count": 11,
   "metadata": {
    "collapsed": false,
    "scrolled": true
   },
   "outputs": [
    {
     "name": "stdout",
     "output_type": "stream",
     "text": [
      "t-Test statistic with equal varience assumption = 2.3032\n",
      "z-Test statistic = 2.3032\n"
     ]
    }
   ],
   "source": [
    "difference = np.mean(female_temps) - np.mean(male_temps)\n",
    "n_F = len(female_temps)\n",
    "n_M = len(male_temps)\n",
    "s_F = np.std(female_temps)\n",
    "s_M = np.std(male_temps)\n",
    "pooled_S = np.sqrt(((n_F-1)*s_F**2 + (n_M-1)*s_M**2)/(n_F+n_M-2)) #equal variance assumed\n",
    "total_S = np.sqrt( s_F**2/n_F + s_M**2/n_M )\n",
    "\n",
    "# Test statistic\n",
    "t_ts = (difference)/(pooled_S*np.sqrt(1/n_F + 1/n_M))\n",
    "z_ts = (difference)/total_S\n",
    "print(\"t-Test statistic with equal varience assumption = {:.4f}\".format(t_ts))\n",
    "print(\"z-Test statistic = {:.4f}\".format(z_ts))"
   ]
  },
  {
   "cell_type": "markdown",
   "metadata": {},
   "source": [
    "Again, z or t test should not matter due to large sample size."
   ]
  },
  {
   "cell_type": "code",
   "execution_count": 12,
   "metadata": {
    "collapsed": false
   },
   "outputs": [
    {
     "name": "stdout",
     "output_type": "stream",
     "text": [
      "z-test p-value = 0.0213\n",
      "t-test p-value = 0.0229\n"
     ]
    }
   ],
   "source": [
    "pval_t = 2*stats.t.sf(t_ts, df = n_F+n_M-2)\n",
    "pval_z = 2*stats.norm.sf(z_ts)\n",
    "print(\"z-test p-value = {:.4f}\".format(pval_z))\n",
    "print(\"t-test p-value = {:.4f}\".format(pval_t))"
   ]
  },
  {
   "cell_type": "markdown",
   "metadata": {},
   "source": [
    "So, the we can reject the null hypothesis (no difference between male and female mean body temperatures) at %5 level. At a lower significance level, e.g. %1, we would fail to reject.\n",
    "\n",
    "Let's use `scipy.stats` t-test functions as well and check whether the assumption of equal variances matter in the t-test:"
   ]
  },
  {
   "cell_type": "code",
   "execution_count": 13,
   "metadata": {
    "collapsed": false
   },
   "outputs": [
    {
     "name": "stdout",
     "output_type": "stream",
     "text": [
      "t-test p-value (equal variences) = 0.023932\n",
      "t-test p-value (non-equal variences) = 0.023938\n"
     ]
    }
   ],
   "source": [
    "pval_t_eqvar = stats.ttest_ind(female_temps, male_temps, equal_var=True)[1]\n",
    "pval_t_neqvar = stats.ttest_ind(female_temps, male_temps, equal_var=False)[1]\n",
    "print(\"t-test p-value (equal variences) = {:.6f}\".format(pval_t_eqvar))\n",
    "print(\"t-test p-value (non-equal variences) = {:.6f}\".format(pval_t_neqvar))"
   ]
  },
  {
   "cell_type": "markdown",
   "metadata": {},
   "source": [
    "Therefore, assuming equal or non-equal variances does not matter.\n",
    "\n",
    "Let's also perform a permutation test to compute the p-value exactly from simulations:"
   ]
  },
  {
   "cell_type": "code",
   "execution_count": 14,
   "metadata": {
    "collapsed": false
   },
   "outputs": [
    {
     "name": "stdout",
     "output_type": "stream",
     "text": [
      "Exact p-value = 0.0141\n"
     ]
    }
   ],
   "source": [
    "pool = np.hstack((female_temps,male_temps))\n",
    "nsim = 10000\n",
    "permuted_differences = np.zeros(nsim)\n",
    "for sim in range(nsim):\n",
    "    np.random.shuffle(pool)\n",
    "    permuted_differences[sim] = np.mean(pool[:65]) - np.mean(pool[65:])\n",
    "\n",
    "# Compute exact p-value: \n",
    "# Probability of the randomly shuffled difference being as high or higher than the actual difference?\n",
    "p_exact = np.sum(permuted_differences >= difference)/len(permuted_differences)\n",
    "print(\"Exact p-value = {:.4f}\".format(p_exact))"
   ]
  },
  {
   "cell_type": "markdown",
   "metadata": {},
   "source": [
    "which is a slightly lower p-value, supporting rejection at %5 level (but not at %1)."
   ]
  },
  {
   "cell_type": "markdown",
   "metadata": {},
   "source": [
    "### Effect sizes\n",
    "\n",
    "There is evidence (at 5% significance) that female body temperatures are on average higher than males, based on p-values. However, to check whether it is an important difference, we need to look at effect sizes:\n",
    "\n",
    "1. Probability of superiority\n",
    "2. Overlap\n",
    "3. Cohen's d"
   ]
  },
  {
   "cell_type": "code",
   "execution_count": 15,
   "metadata": {
    "collapsed": false,
    "scrolled": true
   },
   "outputs": [
    {
     "name": "stdout",
     "output_type": "stream",
     "text": [
      "Probability of superiority= 0.5538\n"
     ]
    }
   ],
   "source": [
    "P_super = (female_temps.values > male_temps.values).mean()\n",
    "print(\"Probability of superiority= {:.4f}\".format(P_super))"
   ]
  },
  {
   "cell_type": "markdown",
   "metadata": {},
   "source": [
    "Only 55% percent of the time, the female body temperature is higher than the male body temperature in the given sample. Not a very large effect size!\n",
    "\n",
    "Let's compute the overlap as well:"
   ]
  },
  {
   "cell_type": "code",
   "execution_count": 16,
   "metadata": {
    "collapsed": true
   },
   "outputs": [],
   "source": [
    "threshold = (np.mean(female_temps) + np.mean(male_temps))/2\n",
    "female_below = np.sum(female_temps < threshold)\n",
    "male_above = np.sum(male_temps > threshold)\n",
    "overlap = (female_below + male_above) / len(female_temps)"
   ]
  },
  {
   "cell_type": "code",
   "execution_count": 17,
   "metadata": {
    "collapsed": false
   },
   "outputs": [
    {
     "name": "stdout",
     "output_type": "stream",
     "text": [
      "Overlap = 0.85\n"
     ]
    }
   ],
   "source": [
    "print(\"Overlap = {:.2f}\".format(overlap))"
   ]
  },
  {
   "cell_type": "markdown",
   "metadata": {},
   "source": [
    "There is a large overlap between male and female body temperature distributions, indicating a small effect size. Finally, let's look at Cohen's d:"
   ]
  },
  {
   "cell_type": "code",
   "execution_count": 18,
   "metadata": {
    "collapsed": false
   },
   "outputs": [
    {
     "name": "stdout",
     "output_type": "stream",
     "text": [
      "Cohen's d = 0.40\n"
     ]
    }
   ],
   "source": [
    "cohen_d = (np.mean(female_temps) - np.mean(male_temps)) / pooled_S\n",
    "print(\"Cohen's d = {:.2f}\".format(cohen_d))"
   ]
  },
  {
   "cell_type": "markdown",
   "metadata": {},
   "source": [
    "Therefore, while the female average body temperatures seem to be higher than male average body temperatures, the difference is rather small and may be insignificant."
   ]
  },
  {
   "cell_type": "markdown",
   "metadata": {},
   "source": [
    "### Summary\n",
    "\n",
    "Below are the main findings from this exploratory analysis:\n",
    "\n",
    "1. The assumption that the normal body temperature is 98.6 F is not supported by the data. \n",
    "2. The normal range (95% confidence interval for the mean body temperature) is between 98.1 and 98.3 F computed using the given sample data.\n",
    "3. Average female body temperature is 0.3 F higher than average male body temperature. We failed to reject the hypothesis that there is no difference between the female and male average body temperature at 5% significance. \n",
    "4. The effect sizes for the difference between female and male body temperatures are small, meaning that the observed 0.3 difference is probably insignificant. "
   ]
  }
 ],
 "metadata": {
  "kernelspec": {
   "display_name": "Python 3",
   "language": "python",
   "name": "python3"
  },
  "language_info": {
   "codemirror_mode": {
    "name": "ipython",
    "version": 3
   },
   "file_extension": ".py",
   "mimetype": "text/x-python",
   "name": "python",
   "nbconvert_exporter": "python",
   "pygments_lexer": "ipython3",
   "version": "3.6.0"
  }
 },
 "nbformat": 4,
 "nbformat_minor": 0
}
